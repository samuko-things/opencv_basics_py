{
 "cells": [
  {
   "cell_type": "code",
   "execution_count": 34,
   "metadata": {},
   "outputs": [],
   "source": [
    "\n",
    "import numpy as np\n"
   ]
  },
  {
   "cell_type": "code",
   "execution_count": 35,
   "metadata": {},
   "outputs": [
    {
     "name": "stdout",
     "output_type": "stream",
     "text": [
      "\n",
      "Content in file1.txt:\n",
      "\n",
      "[[ 0  0  0 ...  0  0  0]\n",
      " [62 62 63 ... 36 44  1]\n",
      " [65 63 66 ... 37 36  1]\n",
      " ...\n",
      " [71 75 74 ... 48 48  1]\n",
      " [73 66 68 ... 48 50  1]\n",
      " [71 74 73 ... 51 47  1]]\n"
     ]
    }
   ],
   "source": [
    "content = np.loadtxt('data1.txt').astype(int)\n",
    "print(\"\\nContent in file1.txt:\\n\")\n",
    "# print(content[:-1,:])\n",
    "print(content)"
   ]
  },
  {
   "cell_type": "code",
   "execution_count": 36,
   "metadata": {},
   "outputs": [
    {
     "name": "stdout",
     "output_type": "stream",
     "text": [
      "46 4800\n",
      "[[0]\n",
      " [1]\n",
      " [1]\n",
      " [1]\n",
      " [1]\n",
      " [1]\n",
      " [1]\n",
      " [1]\n",
      " [1]\n",
      " [1]\n",
      " [1]\n",
      " [1]\n",
      " [1]\n",
      " [1]\n",
      " [1]\n",
      " [1]\n",
      " [1]\n",
      " [1]\n",
      " [1]\n",
      " [1]\n",
      " [1]\n",
      " [1]\n",
      " [1]\n",
      " [1]\n",
      " [1]\n",
      " [1]\n",
      " [1]\n",
      " [1]\n",
      " [1]\n",
      " [1]\n",
      " [1]\n",
      " [1]\n",
      " [1]\n",
      " [1]\n",
      " [1]\n",
      " [1]\n",
      " [1]\n",
      " [1]\n",
      " [1]\n",
      " [1]\n",
      " [1]\n",
      " [1]\n",
      " [1]\n",
      " [1]\n",
      " [1]\n",
      " [1]]\n"
     ]
    }
   ],
   "source": [
    "# Read comma separated data\n",
    "def splitRawData(data):\n",
    "    X, y = data[:, 0:-1], data[:, -1]\n",
    "\n",
    "    if len(X.shape)==1:\n",
    "        X = np.c_[X] # convert to a column vector\n",
    "    \n",
    "    y = np.c_[y] #convert to a column vector\n",
    "\n",
    "    return X,y\n",
    "\n",
    "\n",
    "\n",
    "data = np.loadtxt('data1.txt').astype(int)\n",
    "\n",
    "X,y = splitRawData(data)\n",
    "m = y.shape[0] # no of training data set\n",
    "n = X.shape[1] # no of features\n",
    "\n",
    "print(m,n)\n",
    "print(y)"
   ]
  }
 ],
 "metadata": {
  "kernelspec": {
   "display_name": "Python 3.9.7 ('base')",
   "language": "python",
   "name": "python3"
  },
  "language_info": {
   "codemirror_mode": {
    "name": "ipython",
    "version": 3
   },
   "file_extension": ".py",
   "mimetype": "text/x-python",
   "name": "python",
   "nbconvert_exporter": "python",
   "pygments_lexer": "ipython3",
   "version": "3.9.7"
  },
  "orig_nbformat": 4,
  "vscode": {
   "interpreter": {
    "hash": "e4d63ec2985b8afe7fc8fe7e7be03ad6689ea43c146cf0eb4cc362afcb3b8c1f"
   }
  }
 },
 "nbformat": 4,
 "nbformat_minor": 2
}
